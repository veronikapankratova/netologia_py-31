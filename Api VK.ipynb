{
 "cells": [
  {
   "cell_type": "code",
   "execution_count": 4,
   "metadata": {},
   "outputs": [
    {
     "name": "stdout",
     "output_type": "stream",
     "text": [
      "https://oauth.vk.com/authorize?client_id=7519678&display_page=page&scope=friends&response_type=token&v=5.89\n"
     ]
    },
    {
     "ename": "KeyError",
     "evalue": "'response'",
     "output_type": "error",
     "traceback": [
      "\u001b[1;31m---------------------------------------------------------------------------\u001b[0m",
      "\u001b[1;31mKeyError\u001b[0m                                  Traceback (most recent call last)",
      "\u001b[1;32m<ipython-input-4-bf228a384273>\u001b[0m in \u001b[0;36m<module>\u001b[1;34m\u001b[0m\n\u001b[0;32m     59\u001b[0m \u001b[0mm\u001b[0m \u001b[1;33m=\u001b[0m \u001b[0mUsers\u001b[0m\u001b[1;33m(\u001b[0m\u001b[1;34m'52514583'\u001b[0m\u001b[1;33m,\u001b[0m \u001b[0mTOKEN_VALUE\u001b[0m\u001b[1;33m)\u001b[0m\u001b[1;33m\u001b[0m\u001b[1;33m\u001b[0m\u001b[0m\n\u001b[0;32m     60\u001b[0m \u001b[1;33m\u001b[0m\u001b[0m\n\u001b[1;32m---> 61\u001b[1;33m \u001b[1;32mfor\u001b[0m \u001b[0mvalues\u001b[0m \u001b[1;32min\u001b[0m \u001b[0mv\u001b[0m \u001b[1;33m&\u001b[0m \u001b[0mm\u001b[0m\u001b[1;33m:\u001b[0m\u001b[1;33m\u001b[0m\u001b[1;33m\u001b[0m\u001b[0m\n\u001b[0m\u001b[0;32m     62\u001b[0m     \u001b[0mvalues\u001b[0m\u001b[1;33m.\u001b[0m\u001b[0mprint\u001b[0m\u001b[1;33m(\u001b[0m\u001b[1;33m)\u001b[0m\u001b[1;33m\u001b[0m\u001b[1;33m\u001b[0m\u001b[0m\n",
      "\u001b[1;32m<ipython-input-4-bf228a384273>\u001b[0m in \u001b[0;36m__and__\u001b[1;34m(self, other_user)\u001b[0m\n\u001b[0;32m     47\u001b[0m         \u001b[0mresponse\u001b[0m \u001b[1;33m=\u001b[0m \u001b[0mrequests\u001b[0m\u001b[1;33m.\u001b[0m\u001b[0mget\u001b[0m\u001b[1;33m(\u001b[0m\u001b[1;34m'https://api.vk.com/method/friends.getMutual'\u001b[0m\u001b[1;33m,\u001b[0m \u001b[0mparams\u001b[0m\u001b[1;33m)\u001b[0m\u001b[1;33m\u001b[0m\u001b[1;33m\u001b[0m\u001b[0m\n\u001b[0;32m     48\u001b[0m \u001b[1;33m\u001b[0m\u001b[0m\n\u001b[1;32m---> 49\u001b[1;33m         \u001b[0mids\u001b[0m \u001b[1;33m=\u001b[0m \u001b[0mresponse\u001b[0m\u001b[1;33m.\u001b[0m\u001b[0mjson\u001b[0m\u001b[1;33m(\u001b[0m\u001b[1;33m)\u001b[0m\u001b[1;33m[\u001b[0m\u001b[1;34m'response'\u001b[0m\u001b[1;33m]\u001b[0m\u001b[1;33m\u001b[0m\u001b[1;33m\u001b[0m\u001b[0m\n\u001b[0m\u001b[0;32m     50\u001b[0m         \u001b[1;32mfor\u001b[0m \u001b[0mvalues\u001b[0m \u001b[1;32min\u001b[0m \u001b[0mids\u001b[0m\u001b[1;33m:\u001b[0m\u001b[1;33m\u001b[0m\u001b[1;33m\u001b[0m\u001b[0m\n\u001b[0;32m     51\u001b[0m             \u001b[0mmutal_user_list\u001b[0m\u001b[1;33m.\u001b[0m\u001b[0mappend\u001b[0m\u001b[1;33m(\u001b[0m\u001b[0mUsers\u001b[0m\u001b[1;33m(\u001b[0m\u001b[0mstr\u001b[0m\u001b[1;33m(\u001b[0m\u001b[0mvalues\u001b[0m\u001b[1;33m)\u001b[0m\u001b[1;33m,\u001b[0m\u001b[0mTOKEN_VALUE\u001b[0m\u001b[1;33m)\u001b[0m\u001b[1;33m)\u001b[0m\u001b[1;33m\u001b[0m\u001b[1;33m\u001b[0m\u001b[0m\n",
      "\u001b[1;31mKeyError\u001b[0m: 'response'"
     ]
    }
   ],
   "source": [
    "import requests\n",
    "\n",
    "from urllib.parse import urlencode\n",
    "\n",
    "\n",
    "OAUTH = 'https://oauth.vk.com/authorize'\n",
    "params_dict = {\n",
    "    'client_id': 7519678,\n",
    "    'display_page': 'page',\n",
    "    'scope': 'friends',\n",
    "    'response_type': 'token',\n",
    "    'v' : 5.89\n",
    "}\n",
    "\n",
    "print('?'.join((OAUTH,urlencode(params_dict))))\n",
    "\n",
    "TOKEN_VALUE = 'e8a677cf963590ae4fce6e2d23e0ee33c04ba5a9280120ad940ca05f5ad60c0d4fbfb46f4318ccb740753'\n",
    "\n",
    "params = {\n",
    "    'source_uid' : 96387738,\n",
    "    'access_token': TOKEN_VALUE,\n",
    "    'target_uid': '7508143',\n",
    "    'v': 5.89\n",
    "}\n",
    "\n",
    "response = requests.get('https://api.vk.com/method/friends.getMutual',params)\n",
    "\n",
    "# print(response.json()['response'])\n",
    "\n",
    "\n",
    "class Users:\n",
    "    def __init__(self,id = str ,token = str)-> None:\n",
    "        self.token = token\n",
    "        self.id = id\n",
    "        self.v = 5.89\n",
    "\n",
    "    def __and__(self, other_user):\n",
    "        params = {\n",
    "            'source_uid': self.id,\n",
    "            'access_token': self.token,\n",
    "            'target_uid': other_user.id,\n",
    "            'v': 5.89\n",
    "        }\n",
    "\n",
    "        mutal_user_list = []\n",
    "\n",
    "        response = requests.get('https://api.vk.com/method/friends.getMutual', params)\n",
    "\n",
    "        ids = response.json()['response']\n",
    "        for values in ids:\n",
    "            mutal_user_list.append(Users(str(values),TOKEN_VALUE))\n",
    "        return mutal_user_list\n",
    "\n",
    "    def print(self):\n",
    "        string = 'https://vk.com/id'\n",
    "        print(string+self.id)\n",
    "\n",
    "v = Users('563497965.',TOKEN_VALUE)\n",
    "m = Users('52514583', TOKEN_VALUE)\n",
    "\n",
    "for values in v & m:\n",
    "    values.print()"
   ]
  },
  {
   "cell_type": "code",
   "execution_count": null,
   "metadata": {},
   "outputs": [],
   "source": []
  }
 ],
 "metadata": {
  "kernelspec": {
   "display_name": "Python 3",
   "language": "python",
   "name": "python3"
  },
  "language_info": {
   "codemirror_mode": {
    "name": "ipython",
    "version": 3
   },
   "file_extension": ".py",
   "mimetype": "text/x-python",
   "name": "python",
   "nbconvert_exporter": "python",
   "pygments_lexer": "ipython3",
   "version": "3.7.6"
  }
 },
 "nbformat": 4,
 "nbformat_minor": 4
}
