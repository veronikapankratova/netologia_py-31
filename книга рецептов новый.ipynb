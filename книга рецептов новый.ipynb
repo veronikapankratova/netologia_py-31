{
 "cells": [
  {
   "cell_type": "code",
   "execution_count": 1,
   "metadata": {},
   "outputs": [],
   "source": [
    "def recipe_dict():\n",
    "    with open('recipes.txt', 'r', encoding='utf-8') as recipes:\n",
    "        cook_book = {}\n",
    "        def recipe_dict():\n",
    "            dishes = recipes.readline().strip()\n",
    "            if dishes:\n",
    "                cook_book[dishes] = []\n",
    "                ingredients = recipes.readline()\n",
    "                for line in range(int(ingredients)):\n",
    "                    ingredient = recipes.readline().strip().split(' | ')\n",
    "                    ingredient_dictionary = {'ingredient_name': ingredient[0], 'quantity': ingredient[1], 'measure': ingredient[2]}\n",
    "                    cook_book[dishes].append(ingredient_dictionary)\n",
    "            else:\n",
    "                return(cook_book)\n",
    "            recipes.readline()\n",
    "            recipe_dict()\n",
    "        recipe_dict()\n",
    "    return(cook_book)\n",
    "recipe_dict()\n",
    "\n",
    "def get_shop_list_by_dishes(dishes, person_count):\n",
    "    \n",
    "#     print (dishes)\n",
    "    cook_book = recipe_dict()\n",
    "#     print (cook_book)\n",
    "    shoplist = {}\n",
    "    for dish_name in dishes:\n",
    "        print (dish_name)\n",
    "        if dish_name in cook_book:\n",
    "            for ingredients in cook_book[dish_name]:\n",
    "                if ingredients['ingredient_name'] in shoplist:\n",
    "                    shoplist[ingredients['ingredient_name']]['quantity'] += int(ingredients['quantity']) * person_count\n",
    "                else:\n",
    "                    shoplist[ingredients['ingredient_name']] = {'measure': ingredients['measure'], 'quantity': int(ingredients['quantity']) * person_count}\n",
    "        else:\n",
    "            print('Такого блюда нет')\n",
    "    return shoplist\n"
   ]
  },
  {
   "cell_type": "code",
   "execution_count": 2,
   "metadata": {},
   "outputs": [
    {
     "data": {
      "text/plain": [
       "{'\\ufeffОмлет': [{'ingredient_name': 'Яйцо', 'quantity': '2', 'measure': 'шт'},\n",
       "  {'ingredient_name': 'Молоко', 'quantity': '100', 'measure': 'мл'},\n",
       "  {'ingredient_name': 'Помидор', 'quantity': '2', 'measure': 'шт'}],\n",
       " 'Утка по-пекински': [{'ingredient_name': 'Утка',\n",
       "   'quantity': '1',\n",
       "   'measure': 'шт'},\n",
       "  {'ingredient_name': 'Вода', 'quantity': '2', 'measure': 'л'},\n",
       "  {'ingredient_name': 'Мед', 'quantity': '3', 'measure': 'ст.л'},\n",
       "  {'ingredient_name': 'Соевый соус', 'quantity': '60', 'measure': 'мл'}],\n",
       " 'Запеченный картофель': [{'ingredient_name': 'Картофель',\n",
       "   'quantity': '1',\n",
       "   'measure': 'кг'},\n",
       "  {'ingredient_name': 'Чеснок', 'quantity': '3', 'measure': 'зубч'},\n",
       "  {'ingredient_name': 'Сыр гауда', 'quantity': '100', 'measure': 'г'}],\n",
       " 'Фахитос': [{'ingredient_name': 'Говядина',\n",
       "   'quantity': '500',\n",
       "   'measure': 'г'},\n",
       "  {'ingredient_name': 'Перец сладкий', 'quantity': '1', 'measure': 'шт'},\n",
       "  {'ingredient_name': 'Лаваш', 'quantity': '2', 'measure': 'шт'},\n",
       "  {'ingredient_name': 'Винный уксус', 'quantity': '1', 'measure': 'ст.л'},\n",
       "  {'ingredient_name': 'Помидор', 'quantity': '2', 'measure': 'шт'}]}"
      ]
     },
     "execution_count": 2,
     "metadata": {},
     "output_type": "execute_result"
    }
   ],
   "source": [
    "recipe_dict()"
   ]
  },
  {
   "cell_type": "code",
   "execution_count": 3,
   "metadata": {},
   "outputs": [
    {
     "name": "stdout",
     "output_type": "stream",
     "text": [
      "Фахитос\n",
      "Фахитос\n",
      "Запеченный картофель\n",
      "{'Говядина': {'measure': 'г', 'quantity': 2000}, 'Перец сладкий': {'measure': 'шт', 'quantity': 4}, 'Лаваш': {'measure': 'шт', 'quantity': 8}, 'Винный уксус': {'measure': 'ст.л', 'quantity': 4}, 'Помидор': {'measure': 'шт', 'quantity': 8}, 'Картофель': {'measure': 'кг', 'quantity': 2}, 'Чеснок': {'measure': 'зубч', 'quantity': 6}, 'Сыр гауда': {'measure': 'г', 'quantity': 200}}\n"
     ]
    }
   ],
   "source": [
    "print(get_shop_list_by_dishes(['Фахитос', 'Фахитос', 'Запеченный картофель'], 2))"
   ]
  },
  {
   "cell_type": "code",
   "execution_count": null,
   "metadata": {},
   "outputs": [],
   "source": []
  }
 ],
 "metadata": {
  "kernelspec": {
   "display_name": "Python 3",
   "language": "python",
   "name": "python3"
  },
  "language_info": {
   "codemirror_mode": {
    "name": "ipython",
    "version": 3
   },
   "file_extension": ".py",
   "mimetype": "text/x-python",
   "name": "python",
   "nbconvert_exporter": "python",
   "pygments_lexer": "ipython3",
   "version": "3.7.6"
  }
 },
 "nbformat": 4,
 "nbformat_minor": 4
}
