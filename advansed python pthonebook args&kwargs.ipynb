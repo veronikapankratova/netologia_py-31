{
 "cells": [
  {
   "cell_type": "code",
   "execution_count": 3,
   "metadata": {},
   "outputs": [
    {
     "name": "stdout",
     "output_type": "stream",
     "text": [
      "Created book\n",
      "first name: Jhon,\n",
      "second name: Smith,\n",
      "number: +71234567809,\n",
      "favorites: False,\n",
      "others:\n",
      "     telegram: @jhony\n",
      "     email: jhony@smith.com\n",
      "first name: Bob,\n",
      "second name: Junior,\n",
      "number: +71233467809,\n",
      "favorites: False,\n",
      "others:\n",
      "     telegram: @bobby\n",
      "     email: bob@junior.com\n"
     ]
    }
   ],
   "source": [
    "class Contact:\n",
    "    def __init__(self, first_name, second_name, number, favorite=False, **kwargs):\n",
    "        self.first_name = first_name\n",
    "        self.second_name = second_name\n",
    "        self.number = number\n",
    "        self.favorite = favorite\n",
    "        self.others_list = []\n",
    "        for name, info in kwargs.items():\n",
    "            self.others_list.append(f\"{name}: {info}\")\n",
    "\n",
    "    def __str__(self, *args, **kwargs):\n",
    "        return \\\n",
    "            f\"first name: {self.first_name},\\n\" \\\n",
    "            f\"second name: {self.second_name},\\n\" \\\n",
    "            f\"number: {self.number},\\n\" \\\n",
    "            f\"favorites: {self.favorite},\\n\" \\\n",
    "            f\"others:\\n     {self.others_list[0]}\" \\\n",
    "            f\"\\n     {self.others_list[1]}\"\n",
    "\n",
    "\n",
    "class PhoneBook(Contact):\n",
    "    def __init__(self, book_name, *args,**kwargs):\n",
    "        self.book_name = book_name\n",
    "        self.all_contacts = []\n",
    "\n",
    "    def add(self, contact):\n",
    "        self.all_contacts.append(contact)\n",
    "\n",
    "    def show_contacts(self):\n",
    "        for contacts in self.all_contacts:\n",
    "            print(contacts)\n",
    "\n",
    "    def del_contact(self, entered_number):\n",
    "        for contacts in self.all_contacts:\n",
    "            if contacts.number == entered_number:\n",
    "                del(self.all_contacts[self.all_contacts.index(contacts)])\n",
    "\n",
    "    def look_for_favorites(self):\n",
    "        for contacts in self.all_contacts:\n",
    "            if contacts.favorite:\n",
    "                print(contacts)\n",
    "\n",
    "    def look_for_contact_by_name_second_name(self, name, sec_name):\n",
    "        for contacts in self.all_contacts:\n",
    "            if name == self.first_name and sec_name == self.second_name in self.contacts:\n",
    "                print(contacts)\n",
    "\n",
    "\n",
    "\n"
   ]
  },
  {
   "cell_type": "code",
   "execution_count": 8,
   "metadata": {},
   "outputs": [
    {
     "name": "stdout",
     "output_type": "stream",
     "text": [
      "Created book\n",
      "first name: Bob,\n",
      "second name: Junior,\n",
      "number: +71233467809,\n",
      "favorites: False,\n",
      "others:\n",
      "     telegram: @bobby\n",
      "     email: bob@junior.com\n",
      "first name: Jhon,\n",
      "second name: Smith,\n",
      "number: +71234567809,\n",
      "favorites: False,\n",
      "others:\n",
      "     telegram: @jhony\n",
      "     email: jhony@smith.com\n"
     ]
    }
   ],
   "source": [
    "testbook = PhoneBook(\"Created book\")\n",
    "print(testbook.book_name)\n",
    "jhon = Contact('Jhon', 'Smith', '+71234567809', telegram='@jhony', email='jhony@smith.com')\n",
    "# bob = Contact('Bob', 'Junior', '+71233467809', telegram='@bobby', email='bob@junior.com')\n",
    "# print(jhon)\n",
    "testbook.add(bob)\n",
    "testbook.add(jhon)\n",
    "testbook.show_contacts()\n",
    "testbook.del_contact('+71233467809')\n",
    "testbook.look_for_favorites()\n",
    "# testbook.look_for_contact_by_name_second_name('Bob', 'Junior')"
   ]
  },
  {
   "cell_type": "code",
   "execution_count": null,
   "metadata": {},
   "outputs": [],
   "source": []
  }
 ],
 "metadata": {
  "kernelspec": {
   "display_name": "Python 3",
   "language": "python",
   "name": "python3"
  },
  "language_info": {
   "codemirror_mode": {
    "name": "ipython",
    "version": 3
   },
   "file_extension": ".py",
   "mimetype": "text/x-python",
   "name": "python",
   "nbconvert_exporter": "python",
   "pygments_lexer": "ipython3",
   "version": "3.7.6"
  }
 },
 "nbformat": 4,
 "nbformat_minor": 4
}
