{
 "cells": [
  {
   "cell_type": "markdown",
   "metadata": {},
   "source": [
    "Написать декоратор - логгер. Он записывает в файл дату и время вызова функции, имя функции, аргументы, с которыми вызвалась и возвращаемое значение.\n",
    "\n"
   ]
  },
  {
   "cell_type": "code",
   "execution_count": 4,
   "metadata": {},
   "outputs": [
    {
     "name": "stdout",
     "output_type": "stream",
     "text": [
      "name of the file: 22\n",
      "[0, 2, 4, 6, 8]\n"
     ]
    }
   ],
   "source": [
    "from datetime import datetime\n",
    "\n",
    "\n",
    "def logger(old_func):\n",
    "    def new(*args, **kwargs):\n",
    "        where_to_save = input(\"name of the file: \")\n",
    "        result = old_func(*args, **kwargs)\n",
    "        all_logs = f\"Time when function was called, {datetime.now()},\\n\" \\\n",
    "                   f\"Function name, {old_func.__name__},\\n\" \\\n",
    "                   f\"All arguments: {args}, {kwargs},\\n\" \\\n",
    "                   f\"Returned values: {result}\"\n",
    "\n",
    "        with open(where_to_save, 'w', encoding='utf8') as file:\n",
    "            file.write(all_logs)\n",
    "        return result\n",
    "    return new\n",
    "\n",
    "\n",
    "if __name__ == \"__main__\":\n",
    "    @logger\n",
    "    def one(*args, **kwargs):\n",
    "        list = []\n",
    "        for i in range(10):\n",
    "            if i % 2 == 0:\n",
    "                list.append(i)\n",
    "        return list,\n",
    "\n",
    "\n",
    "    print(one(1, 2, 3, name='bob'))"
   ]
  },
  {
   "cell_type": "code",
   "execution_count": null,
   "metadata": {},
   "outputs": [],
   "source": []
  }
 ],
 "metadata": {
  "kernelspec": {
   "display_name": "Python 3",
   "language": "python",
   "name": "python3"
  },
  "language_info": {
   "codemirror_mode": {
    "name": "ipython",
    "version": 3
   },
   "file_extension": ".py",
   "mimetype": "text/x-python",
   "name": "python",
   "nbconvert_exporter": "python",
   "pygments_lexer": "ipython3",
   "version": "3.7.6"
  }
 },
 "nbformat": 4,
 "nbformat_minor": 4
}
