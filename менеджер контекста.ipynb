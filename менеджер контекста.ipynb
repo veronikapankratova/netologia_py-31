{
 "cells": [
  {
   "cell_type": "code",
   "execution_count": 9,
   "metadata": {},
   "outputs": [
    {
     "name": "stdout",
     "output_type": "stream",
     "text": [
      "Распечатываем книгу рецептов: \n",
      "{\"user_id\": \"user_id\", \"category\": \"category\"}\n",
      "\n",
      "\n",
      "время запуска : 2020-06-06 18:39:55.615337\n",
      "время окончания работы : 2020-06-06 18:39:55.617331\n",
      "время работы : 0:00:00.001994\n"
     ]
    }
   ],
   "source": [
    "import datetime\n",
    "\n",
    "\n",
    "class FileOpener:\n",
    "\n",
    "    def __init__(self, file_):\n",
    "\n",
    "        global begining_time\n",
    "        begining_time = datetime.datetime.now()\n",
    "        self.file_ = file_\n",
    "\n",
    "    def __enter__(self):\n",
    "        self.file = open(self.file_)\n",
    "        return self.file\n",
    "\n",
    "    def __exit__(self, exc_type, exc_val, exc_tb):\n",
    "        ending_time = datetime.datetime.now()\n",
    "        print(f\"время запуска : {begining_time}\")\n",
    "        print(f\"время окончания работы : {ending_time}\")\n",
    "        print(f\"время работы : {ending_time - begining_time}\")\n",
    "        self.file.close()\n",
    "\n",
    "\n",
    "with FileOpener('purchase_log.txt') as file:\n",
    "    data = file.readline()\n",
    "    print(f\"Распечатываем книгу рецептов: \")\n",
    "    print(data)\n",
    "    print()\n",
    "\n",
    "\n",
    "# Необходимо реализовать менеджер контекста, печатающий на экран:\n",
    "#\n",
    "# Время запуска кода в менеджере контекста;\n",
    "# Время окончания работы кода;\n",
    "# Сколько было потрачено времени на выполнение кода.\n",
    "#\n",
    "# Придумать и написать программу, использующая менеджер контекста из задания\n",
    "# Если придумать не получиться, использовать программу из предыдущих домашних работ.\n",
    "#\n",
    "# Для подготовки к следующей лекции прочитайте про форматы данных json, xml, csv."
   ]
  },
  {
   "cell_type": "code",
   "execution_count": null,
   "metadata": {},
   "outputs": [],
   "source": []
  },
  {
   "cell_type": "code",
   "execution_count": null,
   "metadata": {},
   "outputs": [],
   "source": []
  }
 ],
 "metadata": {
  "kernelspec": {
   "display_name": "Python 3",
   "language": "python",
   "name": "python3"
  },
  "language_info": {
   "codemirror_mode": {
    "name": "ipython",
    "version": 3
   },
   "file_extension": ".py",
   "mimetype": "text/x-python",
   "name": "python",
   "nbconvert_exporter": "python",
   "pygments_lexer": "ipython3",
   "version": "3.7.6"
  }
 },
 "nbformat": 4,
 "nbformat_minor": 4
}
