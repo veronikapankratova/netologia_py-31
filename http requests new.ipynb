{
 "cells": [
  {
   "cell_type": "code",
   "execution_count": 29,
   "metadata": {},
   "outputs": [
    {
     "name": "stdout",
     "output_type": "stream",
     "text": [
      "п»ïStarke 45 минут было достаточно: ФК \"Бавария\" стартовали 13. Бундеслига-теги игры против Майнц 05 выиграла, один frГјhen RГјckstand которые MГјnchner снимали еще до перерыва. Счет 3:1 (2:1) команда от тренера Карлоса Анчелотти 30 очков - столько, сколько РБ Лейпциг, который TabellenfГјhrer играет в субботу вечером против \"Шальке\" (18.30, High-Live Ticker SPIEGEL ONLINE).\n",
      " \n",
      " \"В первом тайме мы играли так, как долго больше не будет\", - сказал Арьен Роббен, один из TorschГјtzen, после матча: \"последние недели не хватило нам немного Гњberraschungen. Это было сегодня хорошо. На самом деле hГ¤мы уже убивают в первой HГ¤больше половины голов mГјssen достигнуть.\"\n",
      " \n",
      " Анчелотти сделал некоторые мысли по установке, Филипп Лам из обороны в оборонительной полузащите причислены, на FlГјgeln смогли сыграть впервые за девять месяцев Franck RibГ©ry и Арьен Роббен в очередной раз с самого начала. Недавно резко критиковал JГ©rГґme Боатенг (\"down to earth\") saГџ на скамейке, рядом Матс Хуммельс Хавьер MartГnez стоял в центре обороны.\n",
      "\n"
     ]
    }
   ],
   "source": [
    "import requests\n",
    "import os\n",
    "#  документация https://yandex.ru/dev/translate/doc/dg/reference/translate-docpage/\n",
    "\n",
    "API_KEY = 'trnsl.1.1.20190712T081241Z.0309348472c8719d.0efdbc7ba1c507292080e3fbffe4427f7ce9a9f0'\n",
    "URL = 'https://translate.yandex.net/api/v1.5/tr.json/translate'\n",
    "\n",
    "def translate_it(from_file, to_file, from_lang, to_lang='ru'):\n",
    "    \"\"\"\n",
    "    https://translate.yandex.net/api/v1.5/tr.json/translate ?\n",
    "    key=<API-ключ>\n",
    "     & text=<переводимый текст>\n",
    "     & lang=<направление перевода>\n",
    "     & [format=<формат текста>]\n",
    "     & [options=<опции перевода>]\n",
    "     & [callback=<имя callback-функции>]\n",
    "    :param to_lang:\n",
    "    :return:\n",
    "    \"\"\"\n",
    "\n",
    "    \n",
    "    with open(from_file,  'r') as f:\n",
    "        with open(to_file, 'w') as fw:\n",
    "#             text = readfile(input_filename)\n",
    "            lang = f'{from_lang}-{to_lang}'\n",
    "            params = {\n",
    "            'key': API_KEY,\n",
    "            'text': f,\n",
    "            'lang': lang,\n",
    "                    }\n",
    "            response = requests.get(URL, params=params)\n",
    "            json_ = response.json()\n",
    "            translated_text= ' '.join(json_['text'])\n",
    "            for line in translated_text:\n",
    "#                 print (line)\n",
    "                fw.write(line)\n",
    "    \n",
    "    \n",
    "    \n",
    "\n",
    "    \n",
    "        \n",
    "    f.close()\n",
    "    fw.close()\n",
    "    return ' '.join(json_['text'])\n",
    "\n",
    "# print(translate_it('В настоящее время доступна единственная опция — признак включения \n",
    "# в ответ автоматически определенного языка переводимого текста. Этому соответствует значение 1 этого параметра.', 'no'))\n",
    "\n",
    "if __name__ == '__main__':\n",
    "    print(translate_it('De.txt', 'translated.txt','de', 'ru'))"
   ]
  },
  {
   "cell_type": "code",
   "execution_count": null,
   "metadata": {},
   "outputs": [],
   "source": []
  },
  {
   "cell_type": "code",
   "execution_count": null,
   "metadata": {},
   "outputs": [],
   "source": []
  }
 ],
 "metadata": {
  "kernelspec": {
   "display_name": "Python 3",
   "language": "python",
   "name": "python3"
  },
  "language_info": {
   "codemirror_mode": {
    "name": "ipython",
    "version": 3
   },
   "file_extension": ".py",
   "mimetype": "text/x-python",
   "name": "python",
   "nbconvert_exporter": "python",
   "pygments_lexer": "ipython3",
   "version": "3.7.6"
  }
 },
 "nbformat": 4,
 "nbformat_minor": 4
}
