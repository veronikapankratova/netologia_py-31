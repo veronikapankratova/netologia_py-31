{
 "cells": [
  {
   "cell_type": "code",
   "execution_count": 44,
   "metadata": {},
   "outputs": [
    {
     "name": "stdout",
     "output_type": "stream",
     "text": [
      "['lastname', 'firstname', 'surname', 'organization', 'position', 'phone', 'email']\n",
      "['Усольцев', ' Олег', ' Валентинович', 'ФНС', 'главный специалист – эксперт отдела взаимодействия с федеральными органами власти Управления налогообложения имущества и доходов физических лиц', '+7(495)913-04-78 ', 'opendata@nalog.ru']\n",
      "['Мартиняхин', ' Виталий', ' Геннадьевич', 'ФНС', '', '+7(495)913-00-37 ', '']\n",
      "['Наркаев', ' Вячеслав', ' Рифхатович', 'ФНС', '', '+7(495)913-01-68 ', '']\n",
      "['Лукина', ' Ольга', ' Владимировна', 'Минфин', '', '+7(495)983-36-99 доб.2926', 'Olga.Lukina@minfin.ru']\n",
      "['Паньшин', ' Алексей', ' Владимирович', 'Минфин', '', '+7(495)748-49-73 ', '1248@minfin.ru']\n",
      "['Лагунцов', ' Иван', ' Алексеевич', 'Минфин', '', '+7(495)913-11-11 доб.0792', '']\n"
     ]
    }
   ],
   "source": [
    "#поместить Фамилию, Имя и Отчество человека в поля lastname, firstname и surname соответственно. В записной книжке изначально может быть Ф + ИО, ФИО, а может быть сразу правильно: Ф+И+О;\n",
    "import re\n",
    "from pprint import pprint\n",
    "from itertools import groupby\n",
    "# читаем адресную книгу в формате CSV в список contacts_list\n",
    "import csv\n",
    "with open(\"phonebook_raw.csv\", encoding=\"utf-8\") as f:\n",
    "    rows = csv.reader(f, delimiter=\",\")\n",
    "    contacts_list = list(rows)\n",
    "#     pprint(contacts_list)\n",
    "\n",
    "\n",
    "def make_correct_names(contacts_list):\n",
    "    formated_name_list = []\n",
    "    pattern = re.compile(r'^([аА-яЯ]+)[\\s|,]([аА-яЯ]+)[\\s|,]([аА-яЯ]+|)')\n",
    "    replace_names = r'\\1, \\2, \\3'\n",
    "    for people in contacts_list:\n",
    "        people = \",\".join(people)\n",
    "        result = [pattern.sub(replace_names, people)]\n",
    "        formated_name_list.append(result)\n",
    "    return formated_name_list\n",
    "# make_correct_names(contacts_list)\n",
    "\n",
    "def make_correct_phone_numbers(contacts_list):\n",
    "    formated_phone_list = []\n",
    "    pattern = re.compile(\n",
    "      r'(\\+7|8)\\s*\\(?(\\d{3})\\)?(\\s*|-)(\\d{3})(\\s*|-*)(\\d{2})-?(\\d{2})\\s*(\\(?(доб\\.)\\s*(\\d+)\\)?)?')\n",
    "    replace_phone_numbers = r'+7(\\2)\\4-\\6-\\7 \\9\\10'\n",
    "    for people in contacts_list:\n",
    "      people = \",\".join(people)\n",
    "      result = pattern.sub(replace_phone_numbers, people)\n",
    "      formated_phone_list.append(result)\n",
    "    return formated_phone_list\n",
    "\n",
    "formated_phone_book = make_correct_phone_numbers(make_correct_names(contacts_list))\n",
    "# print (formated_phone_book)\n",
    "\n",
    "def delete_duplicates(contacts_list):\n",
    "  new_list_contact = []\n",
    "  for contact in contacts_list:\n",
    "    contact = ''.join(contact)\n",
    "    contact = contact.split(',')\n",
    "    new_list_contact.append(contact)\n",
    "#     print(new_list_contact)\n",
    "\n",
    "  for contact in new_list_contact:\n",
    "#     print (contact)\n",
    "    for contacts in contact:\n",
    "        if contacts== '':\n",
    "            del (contacts)\n",
    "    while contact[3] == '':\n",
    "      del (contact[3])\n",
    "# #   for\n",
    "# print(delete_duplicates(formated_phone_book))\n",
    "  name_list = []\n",
    "  set_list_contact = []\n",
    "  for contact in new_list_contact:\n",
    "    if contact[0] not in name_list:\n",
    "      name_list.append(contact[0])\n",
    "      set_list_contact.append(contact)\n",
    "  return set_list_contact\n",
    "# #\n",
    "# #\n",
    "contacts_list = delete_duplicates(formated_phone_book)\n",
    "# pprint(contacts_list)\n",
    "\n",
    "for contact in contacts_list:\n",
    "    print (contact)\n",
    "# print(delete_duplicates(contacts_list))\n",
    "# # TODO 2: сохраните получившиеся данные в другой файл\n",
    "# # код для записи файла в формате CSV\n",
    "with open(\"phonebook.csv\", \"w\") as f:\n",
    "  datawriter = csv.writer(f, delimiter=',')\n",
    "#   # Вместо contacts_list подставьте свой список\n",
    "  datawriter.writerows(contacts_list)"
   ]
  },
  {
   "cell_type": "code",
   "execution_count": null,
   "metadata": {},
   "outputs": [],
   "source": []
  },
  {
   "cell_type": "code",
   "execution_count": null,
   "metadata": {},
   "outputs": [],
   "source": []
  }
 ],
 "metadata": {
  "kernelspec": {
   "display_name": "Python 3",
   "language": "python",
   "name": "python3"
  },
  "language_info": {
   "codemirror_mode": {
    "name": "ipython",
    "version": 3
   },
   "file_extension": ".py",
   "mimetype": "text/x-python",
   "name": "python",
   "nbconvert_exporter": "python",
   "pygments_lexer": "ipython3",
   "version": "3.7.6"
  }
 },
 "nbformat": 4,
 "nbformat_minor": 4
}
